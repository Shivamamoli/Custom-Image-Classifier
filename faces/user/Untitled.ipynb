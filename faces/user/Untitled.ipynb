{
 "cells": [
  {
   "cell_type": "code",
   "execution_count": 1,
   "metadata": {},
   "outputs": [],
   "source": [
    "import cv2"
   ]
  },
  {
   "cell_type": "code",
   "execution_count": 6,
   "metadata": {},
   "outputs": [
    {
     "data": {
      "text/plain": [
       "array([[[ 47,  47,  47],\n",
       "        [ 46,  46,  46],\n",
       "        [ 45,  45,  45],\n",
       "        ...,\n",
       "        [ 97,  97,  97],\n",
       "        [100, 100, 100],\n",
       "        [101, 101, 101]],\n",
       "\n",
       "       [[ 46,  46,  46],\n",
       "        [ 46,  46,  46],\n",
       "        [ 46,  46,  46],\n",
       "        ...,\n",
       "        [ 96,  96,  96],\n",
       "        [ 98,  98,  98],\n",
       "        [ 99,  99,  99]],\n",
       "\n",
       "       [[ 46,  46,  46],\n",
       "        [ 46,  46,  46],\n",
       "        [ 46,  46,  46],\n",
       "        ...,\n",
       "        [ 95,  95,  95],\n",
       "        [ 96,  96,  96],\n",
       "        [ 96,  96,  96]],\n",
       "\n",
       "       ...,\n",
       "\n",
       "       [[ 86,  86,  86],\n",
       "        [ 87,  87,  87],\n",
       "        [ 88,  88,  88],\n",
       "        ...,\n",
       "        [ 46,  46,  46],\n",
       "        [ 45,  45,  45],\n",
       "        [ 45,  45,  45]],\n",
       "\n",
       "       [[ 86,  86,  86],\n",
       "        [ 86,  86,  86],\n",
       "        [ 87,  87,  87],\n",
       "        ...,\n",
       "        [ 47,  47,  47],\n",
       "        [ 46,  46,  46],\n",
       "        [ 46,  46,  46]],\n",
       "\n",
       "       [[ 86,  86,  86],\n",
       "        [ 86,  86,  86],\n",
       "        [ 87,  87,  87],\n",
       "        ...,\n",
       "        [ 49,  49,  49],\n",
       "        [ 48,  48,  48],\n",
       "        [ 48,  48,  48]]], dtype=uint8)"
      ]
     },
     "execution_count": 6,
     "metadata": {},
     "output_type": "execute_result"
    }
   ],
   "source": [
    "var = cv2.imread('1.jpg')\n",
    "var"
   ]
  },
  {
   "cell_type": "code",
   "execution_count": 3,
   "metadata": {},
   "outputs": [
    {
     "data": {
      "text/plain": [
       "-1"
      ]
     },
     "execution_count": 3,
     "metadata": {},
     "output_type": "execute_result"
    }
   ],
   "source": [
    "cv2.imshow(\"ngvhg\", var)\n",
    "cv2.waitKey(0)"
   ]
  },
  {
   "cell_type": "code",
   "execution_count": null,
   "metadata": {},
   "outputs": [],
   "source": []
  }
 ],
 "metadata": {
  "kernelspec": {
   "display_name": "Python 3",
   "language": "python",
   "name": "python3"
  },
  "language_info": {
   "codemirror_mode": {
    "name": "ipython",
    "version": 3
   },
   "file_extension": ".py",
   "mimetype": "text/x-python",
   "name": "python",
   "nbconvert_exporter": "python",
   "pygments_lexer": "ipython3",
   "version": "3.7.3"
  }
 },
 "nbformat": 4,
 "nbformat_minor": 2
}
